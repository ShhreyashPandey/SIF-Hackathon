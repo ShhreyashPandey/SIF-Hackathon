{
 "cells": [
  {
   "cell_type": "code",
   "execution_count": 1,
   "metadata": {},
   "outputs": [],
   "source": [
    "import numpy as np\n",
    "import pandas as pd\n",
    "from sklearn.metrics import mean_squared_error, mean_absolute_error\n",
    "from sklearn.preprocessing import MinMaxScaler\n",
    "from tensorflow.keras.models import Sequential\n",
    "from tensorflow.keras.layers import LSTM, Dense"
   ]
  },
  {
   "cell_type": "code",
   "execution_count": 2,
   "metadata": {},
   "outputs": [
    {
     "data": {
      "text/html": [
       "<div>\n",
       "<style scoped>\n",
       "    .dataframe tbody tr th:only-of-type {\n",
       "        vertical-align: middle;\n",
       "    }\n",
       "\n",
       "    .dataframe tbody tr th {\n",
       "        vertical-align: top;\n",
       "    }\n",
       "\n",
       "    .dataframe thead th {\n",
       "        text-align: right;\n",
       "    }\n",
       "</style>\n",
       "<table border=\"1\" class=\"dataframe\">\n",
       "  <thead>\n",
       "    <tr style=\"text-align: right;\">\n",
       "      <th></th>\n",
       "      <th>Temp</th>\n",
       "    </tr>\n",
       "    <tr>\n",
       "      <th>Date</th>\n",
       "      <th></th>\n",
       "    </tr>\n",
       "  </thead>\n",
       "  <tbody>\n",
       "    <tr>\n",
       "      <th>1981-01-01</th>\n",
       "      <td>20.7</td>\n",
       "    </tr>\n",
       "    <tr>\n",
       "      <th>1981-01-02</th>\n",
       "      <td>17.9</td>\n",
       "    </tr>\n",
       "    <tr>\n",
       "      <th>1981-01-03</th>\n",
       "      <td>18.8</td>\n",
       "    </tr>\n",
       "    <tr>\n",
       "      <th>1981-01-04</th>\n",
       "      <td>14.6</td>\n",
       "    </tr>\n",
       "    <tr>\n",
       "      <th>1981-01-05</th>\n",
       "      <td>15.8</td>\n",
       "    </tr>\n",
       "    <tr>\n",
       "      <th>...</th>\n",
       "      <td>...</td>\n",
       "    </tr>\n",
       "    <tr>\n",
       "      <th>1990-12-27</th>\n",
       "      <td>14.0</td>\n",
       "    </tr>\n",
       "    <tr>\n",
       "      <th>1990-12-28</th>\n",
       "      <td>13.6</td>\n",
       "    </tr>\n",
       "    <tr>\n",
       "      <th>1990-12-29</th>\n",
       "      <td>13.5</td>\n",
       "    </tr>\n",
       "    <tr>\n",
       "      <th>1990-12-30</th>\n",
       "      <td>15.7</td>\n",
       "    </tr>\n",
       "    <tr>\n",
       "      <th>1990-12-31</th>\n",
       "      <td>13.0</td>\n",
       "    </tr>\n",
       "  </tbody>\n",
       "</table>\n",
       "<p>3650 rows × 1 columns</p>\n",
       "</div>"
      ],
      "text/plain": [
       "            Temp\n",
       "Date            \n",
       "1981-01-01  20.7\n",
       "1981-01-02  17.9\n",
       "1981-01-03  18.8\n",
       "1981-01-04  14.6\n",
       "1981-01-05  15.8\n",
       "...          ...\n",
       "1990-12-27  14.0\n",
       "1990-12-28  13.6\n",
       "1990-12-29  13.5\n",
       "1990-12-30  15.7\n",
       "1990-12-31  13.0\n",
       "\n",
       "[3650 rows x 1 columns]"
      ]
     },
     "execution_count": 2,
     "metadata": {},
     "output_type": "execute_result"
    }
   ],
   "source": [
    "df=pd.read_csv(\"minimum_temperature.csv\")\n",
    "df[\"Date\"]=pd.to_datetime(df[\"Date\"])\n",
    "df.set_index('Date', inplace=True)\n",
    "df"
   ]
  },
  {
   "cell_type": "code",
   "execution_count": 3,
   "metadata": {},
   "outputs": [
    {
     "data": {
      "text/plain": [
       "Temp    float64\n",
       "dtype: object"
      ]
     },
     "execution_count": 3,
     "metadata": {},
     "output_type": "execute_result"
    }
   ],
   "source": [
    "df.dtypes"
   ]
  },
  {
   "cell_type": "code",
   "execution_count": 4,
   "metadata": {},
   "outputs": [],
   "source": [
    "train_size = int(len(df) * 0.8)\n",
    "train, test = df.iloc[:train_size], df.iloc[train_size:]"
   ]
  },
  {
   "cell_type": "code",
   "execution_count": 5,
   "metadata": {},
   "outputs": [],
   "source": [
    "scaler = MinMaxScaler(feature_range=(0, 1))\n",
    "train_date = train.index\n",
    "test_date = test.index"
   ]
  },
  {
   "cell_type": "code",
   "execution_count": 6,
   "metadata": {},
   "outputs": [],
   "source": [
    "train_values = train.values.reshape(-1, 1)\n",
    "test_values = test.values.reshape(-1, 1)"
   ]
  },
  {
   "cell_type": "code",
   "execution_count": 7,
   "metadata": {},
   "outputs": [],
   "source": [
    "train_scaled = scaler.fit_transform(train_values)\n",
    "test_scaled = scaler.transform(test_values)"
   ]
  },
  {
   "cell_type": "code",
   "execution_count": 8,
   "metadata": {},
   "outputs": [],
   "source": [
    "train_scaled = train_scaled.reshape(-1, len(train.columns))\n",
    "test_scaled = test_scaled.reshape(-1, len(test.columns))"
   ]
  },
  {
   "cell_type": "code",
   "execution_count": 9,
   "metadata": {},
   "outputs": [],
   "source": [
    "train_scaled_df = pd.DataFrame(train_scaled, columns=train.columns, index=train_date)\n",
    "test_scaled_df = pd.DataFrame(test_scaled, columns=test.columns, index=test_date)"
   ]
  },
  {
   "cell_type": "code",
   "execution_count": 10,
   "metadata": {},
   "outputs": [],
   "source": [
    "def create_sequences(data, sequence_length):\n",
    "    sequences = []\n",
    "    for i in range(len(data) - sequence_length + 1):\n",
    "        seq = data[i:i + sequence_length]\n",
    "        sequences.append(seq)\n",
    "    return np.array(sequences)"
   ]
  },
  {
   "cell_type": "code",
   "execution_count": 11,
   "metadata": {},
   "outputs": [],
   "source": [
    "sequence_length = 10\n",
    "X_train = create_sequences(train_scaled_df.values, sequence_length)\n",
    "X_test = create_sequences(test_scaled_df.values, sequence_length)"
   ]
  },
  {
   "cell_type": "code",
   "execution_count": 12,
   "metadata": {},
   "outputs": [],
   "source": [
    "X_train, y_train = X_train[:, :-1], X_train[:, -1][:, -1]\n",
    "X_test, y_test = X_test[:, :-1], X_test[:, -1][:, -1]"
   ]
  },
  {
   "cell_type": "code",
   "execution_count": 13,
   "metadata": {},
   "outputs": [],
   "source": [
    "model = Sequential()\n",
    "model.add(LSTM(50, activation='relu', input_shape=(X_train.shape[1], X_train.shape[2])))\n",
    "model.add(Dense(1))\n",
    "model.compile(optimizer='adam', loss='mse')"
   ]
  },
  {
   "cell_type": "code",
   "execution_count": 14,
   "metadata": {},
   "outputs": [
    {
     "name": "stdout",
     "output_type": "stream",
     "text": [
      "Epoch 1/50\n",
      "91/91 - 2s - loss: 0.0352 - val_loss: 0.0102 - 2s/epoch - 17ms/step\n",
      "Epoch 2/50\n",
      "91/91 - 0s - loss: 0.0112 - val_loss: 0.0096 - 306ms/epoch - 3ms/step\n",
      "Epoch 3/50\n",
      "91/91 - 0s - loss: 0.0111 - val_loss: 0.0091 - 328ms/epoch - 4ms/step\n",
      "Epoch 4/50\n",
      "91/91 - 0s - loss: 0.0108 - val_loss: 0.0090 - 337ms/epoch - 4ms/step\n",
      "Epoch 5/50\n",
      "91/91 - 0s - loss: 0.0106 - val_loss: 0.0085 - 309ms/epoch - 3ms/step\n",
      "Epoch 6/50\n",
      "91/91 - 0s - loss: 0.0102 - val_loss: 0.0083 - 295ms/epoch - 3ms/step\n",
      "Epoch 7/50\n",
      "91/91 - 0s - loss: 0.0097 - val_loss: 0.0078 - 299ms/epoch - 3ms/step\n",
      "Epoch 8/50\n",
      "91/91 - 0s - loss: 0.0095 - val_loss: 0.0079 - 293ms/epoch - 3ms/step\n",
      "Epoch 9/50\n",
      "91/91 - 0s - loss: 0.0094 - val_loss: 0.0074 - 294ms/epoch - 3ms/step\n",
      "Epoch 10/50\n",
      "91/91 - 0s - loss: 0.0094 - val_loss: 0.0083 - 289ms/epoch - 3ms/step\n",
      "Epoch 11/50\n",
      "91/91 - 0s - loss: 0.0093 - val_loss: 0.0073 - 305ms/epoch - 3ms/step\n",
      "Epoch 12/50\n",
      "91/91 - 0s - loss: 0.0092 - val_loss: 0.0074 - 289ms/epoch - 3ms/step\n",
      "Epoch 13/50\n",
      "91/91 - 0s - loss: 0.0092 - val_loss: 0.0075 - 289ms/epoch - 3ms/step\n",
      "Epoch 14/50\n",
      "91/91 - 0s - loss: 0.0091 - val_loss: 0.0073 - 288ms/epoch - 3ms/step\n",
      "Epoch 15/50\n",
      "91/91 - 0s - loss: 0.0090 - val_loss: 0.0072 - 290ms/epoch - 3ms/step\n",
      "Epoch 16/50\n",
      "91/91 - 0s - loss: 0.0090 - val_loss: 0.0074 - 300ms/epoch - 3ms/step\n",
      "Epoch 17/50\n",
      "91/91 - 0s - loss: 0.0090 - val_loss: 0.0072 - 287ms/epoch - 3ms/step\n",
      "Epoch 18/50\n",
      "91/91 - 0s - loss: 0.0090 - val_loss: 0.0072 - 288ms/epoch - 3ms/step\n",
      "Epoch 19/50\n",
      "91/91 - 0s - loss: 0.0092 - val_loss: 0.0073 - 290ms/epoch - 3ms/step\n",
      "Epoch 20/50\n",
      "91/91 - 0s - loss: 0.0091 - val_loss: 0.0073 - 292ms/epoch - 3ms/step\n",
      "Epoch 21/50\n",
      "91/91 - 0s - loss: 0.0091 - val_loss: 0.0073 - 303ms/epoch - 3ms/step\n",
      "Epoch 22/50\n",
      "91/91 - 0s - loss: 0.0090 - val_loss: 0.0071 - 288ms/epoch - 3ms/step\n",
      "Epoch 23/50\n",
      "91/91 - 0s - loss: 0.0090 - val_loss: 0.0074 - 308ms/epoch - 3ms/step\n",
      "Epoch 24/50\n",
      "91/91 - 0s - loss: 0.0090 - val_loss: 0.0076 - 294ms/epoch - 3ms/step\n",
      "Epoch 25/50\n",
      "91/91 - 0s - loss: 0.0091 - val_loss: 0.0082 - 296ms/epoch - 3ms/step\n",
      "Epoch 26/50\n",
      "91/91 - 0s - loss: 0.0092 - val_loss: 0.0072 - 300ms/epoch - 3ms/step\n",
      "Epoch 27/50\n",
      "91/91 - 0s - loss: 0.0091 - val_loss: 0.0074 - 313ms/epoch - 3ms/step\n",
      "Epoch 28/50\n",
      "91/91 - 0s - loss: 0.0089 - val_loss: 0.0071 - 294ms/epoch - 3ms/step\n",
      "Epoch 29/50\n",
      "91/91 - 0s - loss: 0.0090 - val_loss: 0.0072 - 290ms/epoch - 3ms/step\n",
      "Epoch 30/50\n",
      "91/91 - 0s - loss: 0.0089 - val_loss: 0.0072 - 281ms/epoch - 3ms/step\n",
      "Epoch 31/50\n",
      "91/91 - 0s - loss: 0.0089 - val_loss: 0.0071 - 278ms/epoch - 3ms/step\n",
      "Epoch 32/50\n",
      "91/91 - 0s - loss: 0.0089 - val_loss: 0.0071 - 277ms/epoch - 3ms/step\n",
      "Epoch 33/50\n",
      "91/91 - 0s - loss: 0.0089 - val_loss: 0.0071 - 324ms/epoch - 4ms/step\n",
      "Epoch 34/50\n",
      "91/91 - 0s - loss: 0.0090 - val_loss: 0.0076 - 317ms/epoch - 3ms/step\n",
      "Epoch 35/50\n",
      "91/91 - 0s - loss: 0.0091 - val_loss: 0.0072 - 293ms/epoch - 3ms/step\n",
      "Epoch 36/50\n",
      "91/91 - 0s - loss: 0.0091 - val_loss: 0.0072 - 300ms/epoch - 3ms/step\n",
      "Epoch 37/50\n",
      "91/91 - 0s - loss: 0.0090 - val_loss: 0.0072 - 347ms/epoch - 4ms/step\n",
      "Epoch 38/50\n",
      "91/91 - 0s - loss: 0.0089 - val_loss: 0.0071 - 320ms/epoch - 4ms/step\n",
      "Epoch 39/50\n",
      "91/91 - 0s - loss: 0.0089 - val_loss: 0.0071 - 319ms/epoch - 4ms/step\n",
      "Epoch 40/50\n",
      "91/91 - 0s - loss: 0.0090 - val_loss: 0.0076 - 294ms/epoch - 3ms/step\n",
      "Epoch 41/50\n",
      "91/91 - 0s - loss: 0.0090 - val_loss: 0.0075 - 283ms/epoch - 3ms/step\n",
      "Epoch 42/50\n",
      "91/91 - 0s - loss: 0.0089 - val_loss: 0.0071 - 273ms/epoch - 3ms/step\n",
      "Epoch 43/50\n",
      "91/91 - 0s - loss: 0.0089 - val_loss: 0.0071 - 276ms/epoch - 3ms/step\n",
      "Epoch 44/50\n",
      "91/91 - 0s - loss: 0.0089 - val_loss: 0.0074 - 271ms/epoch - 3ms/step\n",
      "Epoch 45/50\n",
      "91/91 - 0s - loss: 0.0090 - val_loss: 0.0070 - 274ms/epoch - 3ms/step\n",
      "Epoch 46/50\n",
      "91/91 - 0s - loss: 0.0089 - val_loss: 0.0072 - 272ms/epoch - 3ms/step\n",
      "Epoch 47/50\n",
      "91/91 - 0s - loss: 0.0090 - val_loss: 0.0070 - 273ms/epoch - 3ms/step\n",
      "Epoch 48/50\n",
      "91/91 - 0s - loss: 0.0089 - val_loss: 0.0071 - 284ms/epoch - 3ms/step\n",
      "Epoch 49/50\n",
      "91/91 - 0s - loss: 0.0090 - val_loss: 0.0073 - 285ms/epoch - 3ms/step\n",
      "Epoch 50/50\n",
      "91/91 - 0s - loss: 0.0089 - val_loss: 0.0070 - 366ms/epoch - 4ms/step\n"
     ]
    },
    {
     "data": {
      "text/plain": [
       "<keras.src.callbacks.History at 0x1e7aa21a590>"
      ]
     },
     "execution_count": 14,
     "metadata": {},
     "output_type": "execute_result"
    }
   ],
   "source": [
    "model.fit(X_train, y_train, epochs=50, batch_size=32, validation_data=(X_test, y_test), verbose=2)"
   ]
  },
  {
   "cell_type": "code",
   "execution_count": 15,
   "metadata": {},
   "outputs": [
    {
     "name": "stdout",
     "output_type": "stream",
     "text": [
      "23/23 [==============================] - 1s 6ms/step\n",
      "Mean Squared Error: 0.007032928388177713\n",
      "Mean Absolute Error: 0.06586242385638967\n"
     ]
    }
   ],
   "source": [
    "y_pred = model.predict(X_test)\n",
    "\n",
    "mse = mean_squared_error(y_test, y_pred)\n",
    "mae = mean_absolute_error(y_test, y_pred)\n",
    "\n",
    "print(f'Mean Squared Error: {mse}')\n",
    "print(f'Mean Absolute Error: {mae}')"
   ]
  },
  {
   "cell_type": "code",
   "execution_count": null,
   "metadata": {},
   "outputs": [],
   "source": []
  }
 ],
 "metadata": {
  "kernelspec": {
   "display_name": "Python 3",
   "language": "python",
   "name": "python3"
  },
  "language_info": {
   "codemirror_mode": {
    "name": "ipython",
    "version": 3
   },
   "file_extension": ".py",
   "mimetype": "text/x-python",
   "name": "python",
   "nbconvert_exporter": "python",
   "pygments_lexer": "ipython3",
   "version": "3.11.6"
  }
 },
 "nbformat": 4,
 "nbformat_minor": 2
}
