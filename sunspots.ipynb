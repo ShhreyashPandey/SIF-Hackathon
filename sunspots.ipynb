{
 "cells": [
  {
   "cell_type": "code",
   "execution_count": 1,
   "metadata": {},
   "outputs": [],
   "source": [
    "import numpy as np\n",
    "import pandas as pd\n",
    "from sklearn.metrics import mean_squared_error, mean_absolute_error\n",
    "from sklearn.preprocessing import MinMaxScaler\n",
    "import tensorflow as tf\n",
    "from tensorflow.keras.models import Sequential\n",
    "from tensorflow.keras.layers import LSTM, Dense"
   ]
  },
  {
   "cell_type": "code",
   "execution_count": 4,
   "metadata": {},
   "outputs": [
    {
     "data": {
      "text/html": [
       "<div>\n",
       "<style scoped>\n",
       "    .dataframe tbody tr th:only-of-type {\n",
       "        vertical-align: middle;\n",
       "    }\n",
       "\n",
       "    .dataframe tbody tr th {\n",
       "        vertical-align: top;\n",
       "    }\n",
       "\n",
       "    .dataframe thead th {\n",
       "        text-align: right;\n",
       "    }\n",
       "</style>\n",
       "<table border=\"1\" class=\"dataframe\">\n",
       "  <thead>\n",
       "    <tr style=\"text-align: right;\">\n",
       "      <th></th>\n",
       "      <th>Sunspots</th>\n",
       "    </tr>\n",
       "    <tr>\n",
       "      <th>Month</th>\n",
       "      <th></th>\n",
       "    </tr>\n",
       "  </thead>\n",
       "  <tbody>\n",
       "    <tr>\n",
       "      <th>1749-01-01</th>\n",
       "      <td>58.0</td>\n",
       "    </tr>\n",
       "    <tr>\n",
       "      <th>1749-02-01</th>\n",
       "      <td>62.6</td>\n",
       "    </tr>\n",
       "    <tr>\n",
       "      <th>1749-03-01</th>\n",
       "      <td>70.0</td>\n",
       "    </tr>\n",
       "    <tr>\n",
       "      <th>1749-04-01</th>\n",
       "      <td>55.7</td>\n",
       "    </tr>\n",
       "    <tr>\n",
       "      <th>1749-05-01</th>\n",
       "      <td>85.0</td>\n",
       "    </tr>\n",
       "    <tr>\n",
       "      <th>...</th>\n",
       "      <td>...</td>\n",
       "    </tr>\n",
       "    <tr>\n",
       "      <th>1983-08-01</th>\n",
       "      <td>71.8</td>\n",
       "    </tr>\n",
       "    <tr>\n",
       "      <th>1983-09-01</th>\n",
       "      <td>50.3</td>\n",
       "    </tr>\n",
       "    <tr>\n",
       "      <th>1983-10-01</th>\n",
       "      <td>55.8</td>\n",
       "    </tr>\n",
       "    <tr>\n",
       "      <th>1983-11-01</th>\n",
       "      <td>33.3</td>\n",
       "    </tr>\n",
       "    <tr>\n",
       "      <th>1983-12-01</th>\n",
       "      <td>33.4</td>\n",
       "    </tr>\n",
       "  </tbody>\n",
       "</table>\n",
       "<p>2820 rows × 1 columns</p>\n",
       "</div>"
      ],
      "text/plain": [
       "            Sunspots\n",
       "Month               \n",
       "1749-01-01      58.0\n",
       "1749-02-01      62.6\n",
       "1749-03-01      70.0\n",
       "1749-04-01      55.7\n",
       "1749-05-01      85.0\n",
       "...              ...\n",
       "1983-08-01      71.8\n",
       "1983-09-01      50.3\n",
       "1983-10-01      55.8\n",
       "1983-11-01      33.3\n",
       "1983-12-01      33.4\n",
       "\n",
       "[2820 rows x 1 columns]"
      ]
     },
     "execution_count": 4,
     "metadata": {},
     "output_type": "execute_result"
    }
   ],
   "source": [
    "df=pd.read_csv(\"sunspots.csv\")\n",
    "df[\"Month\"]=pd.to_datetime(df[\"Month\"])\n",
    "df.set_index('Month', inplace=True)\n",
    "df"
   ]
  },
  {
   "cell_type": "code",
   "execution_count": 5,
   "metadata": {},
   "outputs": [
    {
     "data": {
      "text/plain": [
       "Sunspots    float64\n",
       "dtype: object"
      ]
     },
     "execution_count": 5,
     "metadata": {},
     "output_type": "execute_result"
    }
   ],
   "source": [
    "df.dtypes"
   ]
  },
  {
   "cell_type": "code",
   "execution_count": 6,
   "metadata": {},
   "outputs": [],
   "source": [
    "train_size = int(len(df) * 0.8)\n",
    "train, test = df.iloc[:train_size], df.iloc[train_size:]"
   ]
  },
  {
   "cell_type": "code",
   "execution_count": 7,
   "metadata": {},
   "outputs": [],
   "source": [
    "scaler = MinMaxScaler(feature_range=(0, 1))\n",
    "train_date = train.index\n",
    "test_date = test.index"
   ]
  },
  {
   "cell_type": "code",
   "execution_count": 8,
   "metadata": {},
   "outputs": [],
   "source": [
    "train_values = train.values.reshape(-1, 1)\n",
    "test_values = test.values.reshape(-1, 1)"
   ]
  },
  {
   "cell_type": "code",
   "execution_count": 9,
   "metadata": {},
   "outputs": [],
   "source": [
    "train_scaled = scaler.fit_transform(train_values)\n",
    "test_scaled = scaler.transform(test_values)"
   ]
  },
  {
   "cell_type": "code",
   "execution_count": 10,
   "metadata": {},
   "outputs": [],
   "source": [
    "train_scaled = train_scaled.reshape(-1, len(train.columns))\n",
    "test_scaled = test_scaled.reshape(-1, len(test.columns))"
   ]
  },
  {
   "cell_type": "code",
   "execution_count": 11,
   "metadata": {},
   "outputs": [],
   "source": [
    "train_scaled_df = pd.DataFrame(train_scaled, columns=train.columns, index=train_date)\n",
    "test_scaled_df = pd.DataFrame(test_scaled, columns=test.columns, index=test_date)"
   ]
  },
  {
   "cell_type": "code",
   "execution_count": 12,
   "metadata": {},
   "outputs": [],
   "source": [
    "def create_sequences(data, sequence_length):\n",
    "    sequences = []\n",
    "    for i in range(len(data) - sequence_length + 1):\n",
    "        seq = data[i:i + sequence_length]\n",
    "        sequences.append(seq)\n",
    "    return np.array(sequences)"
   ]
  },
  {
   "cell_type": "code",
   "execution_count": 13,
   "metadata": {},
   "outputs": [],
   "source": [
    "sequence_length = 10\n",
    "X_train = create_sequences(train_scaled_df.values, sequence_length)\n",
    "X_test = create_sequences(test_scaled_df.values, sequence_length)"
   ]
  },
  {
   "cell_type": "code",
   "execution_count": 14,
   "metadata": {},
   "outputs": [],
   "source": [
    "X_train, y_train = X_train[:, :-1], X_train[:, -1][:, -1]\n",
    "X_test, y_test = X_test[:, :-1], X_test[:, -1][:, -1]"
   ]
  },
  {
   "cell_type": "code",
   "execution_count": 15,
   "metadata": {},
   "outputs": [],
   "source": [
    "model = Sequential()\n",
    "model.add(LSTM(50, activation='relu', input_shape=(X_train.shape[1], X_train.shape[2])))\n",
    "model.add(Dense(1))\n",
    "model.compile(optimizer='adam', loss='mse')"
   ]
  },
  {
   "cell_type": "code",
   "execution_count": 16,
   "metadata": {},
   "outputs": [
    {
     "name": "stdout",
     "output_type": "stream",
     "text": [
      "Epoch 1/50\n",
      "71/71 - 2s - loss: 0.0176 - val_loss: 0.0107 - 2s/epoch - 25ms/step\n",
      "Epoch 2/50\n",
      "71/71 - 0s - loss: 0.0050 - val_loss: 0.0085 - 252ms/epoch - 4ms/step\n",
      "Epoch 3/50\n",
      "71/71 - 0s - loss: 0.0048 - val_loss: 0.0082 - 225ms/epoch - 3ms/step\n",
      "Epoch 4/50\n",
      "71/71 - 0s - loss: 0.0047 - val_loss: 0.0080 - 242ms/epoch - 3ms/step\n",
      "Epoch 5/50\n",
      "71/71 - 0s - loss: 0.0047 - val_loss: 0.0077 - 238ms/epoch - 3ms/step\n",
      "Epoch 6/50\n",
      "71/71 - 0s - loss: 0.0045 - val_loss: 0.0082 - 266ms/epoch - 4ms/step\n",
      "Epoch 7/50\n",
      "71/71 - 0s - loss: 0.0045 - val_loss: 0.0073 - 256ms/epoch - 4ms/step\n",
      "Epoch 8/50\n",
      "71/71 - 0s - loss: 0.0044 - val_loss: 0.0072 - 232ms/epoch - 3ms/step\n",
      "Epoch 9/50\n",
      "71/71 - 0s - loss: 0.0044 - val_loss: 0.0072 - 246ms/epoch - 3ms/step\n",
      "Epoch 10/50\n",
      "71/71 - 0s - loss: 0.0043 - val_loss: 0.0073 - 248ms/epoch - 3ms/step\n",
      "Epoch 11/50\n",
      "71/71 - 0s - loss: 0.0044 - val_loss: 0.0071 - 243ms/epoch - 3ms/step\n",
      "Epoch 12/50\n",
      "71/71 - 0s - loss: 0.0043 - val_loss: 0.0069 - 232ms/epoch - 3ms/step\n",
      "Epoch 13/50\n",
      "71/71 - 0s - loss: 0.0042 - val_loss: 0.0069 - 240ms/epoch - 3ms/step\n",
      "Epoch 14/50\n",
      "71/71 - 0s - loss: 0.0042 - val_loss: 0.0068 - 225ms/epoch - 3ms/step\n",
      "Epoch 15/50\n",
      "71/71 - 0s - loss: 0.0042 - val_loss: 0.0067 - 240ms/epoch - 3ms/step\n",
      "Epoch 16/50\n",
      "71/71 - 0s - loss: 0.0042 - val_loss: 0.0069 - 225ms/epoch - 3ms/step\n",
      "Epoch 17/50\n",
      "71/71 - 0s - loss: 0.0041 - val_loss: 0.0066 - 243ms/epoch - 3ms/step\n",
      "Epoch 18/50\n",
      "71/71 - 0s - loss: 0.0041 - val_loss: 0.0067 - 228ms/epoch - 3ms/step\n",
      "Epoch 19/50\n",
      "71/71 - 0s - loss: 0.0041 - val_loss: 0.0068 - 259ms/epoch - 4ms/step\n",
      "Epoch 20/50\n",
      "71/71 - 0s - loss: 0.0041 - val_loss: 0.0065 - 237ms/epoch - 3ms/step\n",
      "Epoch 21/50\n",
      "71/71 - 0s - loss: 0.0041 - val_loss: 0.0069 - 270ms/epoch - 4ms/step\n",
      "Epoch 22/50\n",
      "71/71 - 0s - loss: 0.0041 - val_loss: 0.0065 - 255ms/epoch - 4ms/step\n",
      "Epoch 23/50\n",
      "71/71 - 0s - loss: 0.0041 - val_loss: 0.0067 - 251ms/epoch - 4ms/step\n",
      "Epoch 24/50\n",
      "71/71 - 0s - loss: 0.0040 - val_loss: 0.0064 - 229ms/epoch - 3ms/step\n",
      "Epoch 25/50\n",
      "71/71 - 0s - loss: 0.0041 - val_loss: 0.0065 - 236ms/epoch - 3ms/step\n",
      "Epoch 26/50\n",
      "71/71 - 0s - loss: 0.0040 - val_loss: 0.0067 - 264ms/epoch - 4ms/step\n",
      "Epoch 27/50\n",
      "71/71 - 0s - loss: 0.0040 - val_loss: 0.0064 - 250ms/epoch - 4ms/step\n",
      "Epoch 28/50\n",
      "71/71 - 0s - loss: 0.0040 - val_loss: 0.0063 - 234ms/epoch - 3ms/step\n",
      "Epoch 29/50\n",
      "71/71 - 0s - loss: 0.0040 - val_loss: 0.0064 - 222ms/epoch - 3ms/step\n",
      "Epoch 30/50\n",
      "71/71 - 0s - loss: 0.0040 - val_loss: 0.0063 - 219ms/epoch - 3ms/step\n",
      "Epoch 31/50\n",
      "71/71 - 0s - loss: 0.0040 - val_loss: 0.0064 - 229ms/epoch - 3ms/step\n",
      "Epoch 32/50\n",
      "71/71 - 0s - loss: 0.0040 - val_loss: 0.0063 - 227ms/epoch - 3ms/step\n",
      "Epoch 33/50\n",
      "71/71 - 0s - loss: 0.0040 - val_loss: 0.0067 - 236ms/epoch - 3ms/step\n",
      "Epoch 34/50\n",
      "71/71 - 0s - loss: 0.0039 - val_loss: 0.0063 - 243ms/epoch - 3ms/step\n",
      "Epoch 35/50\n",
      "71/71 - 0s - loss: 0.0040 - val_loss: 0.0067 - 230ms/epoch - 3ms/step\n",
      "Epoch 36/50\n",
      "71/71 - 0s - loss: 0.0040 - val_loss: 0.0072 - 232ms/epoch - 3ms/step\n",
      "Epoch 37/50\n",
      "71/71 - 0s - loss: 0.0040 - val_loss: 0.0064 - 229ms/epoch - 3ms/step\n",
      "Epoch 38/50\n",
      "71/71 - 0s - loss: 0.0040 - val_loss: 0.0063 - 227ms/epoch - 3ms/step\n",
      "Epoch 39/50\n",
      "71/71 - 0s - loss: 0.0039 - val_loss: 0.0067 - 229ms/epoch - 3ms/step\n",
      "Epoch 40/50\n",
      "71/71 - 0s - loss: 0.0039 - val_loss: 0.0063 - 226ms/epoch - 3ms/step\n",
      "Epoch 41/50\n",
      "71/71 - 0s - loss: 0.0040 - val_loss: 0.0062 - 214ms/epoch - 3ms/step\n",
      "Epoch 42/50\n",
      "71/71 - 0s - loss: 0.0040 - val_loss: 0.0064 - 222ms/epoch - 3ms/step\n",
      "Epoch 43/50\n",
      "71/71 - 0s - loss: 0.0039 - val_loss: 0.0062 - 233ms/epoch - 3ms/step\n",
      "Epoch 44/50\n",
      "71/71 - 0s - loss: 0.0039 - val_loss: 0.0065 - 257ms/epoch - 4ms/step\n",
      "Epoch 45/50\n",
      "71/71 - 0s - loss: 0.0040 - val_loss: 0.0066 - 230ms/epoch - 3ms/step\n",
      "Epoch 46/50\n",
      "71/71 - 0s - loss: 0.0040 - val_loss: 0.0063 - 222ms/epoch - 3ms/step\n",
      "Epoch 47/50\n",
      "71/71 - 0s - loss: 0.0040 - val_loss: 0.0072 - 235ms/epoch - 3ms/step\n",
      "Epoch 48/50\n",
      "71/71 - 0s - loss: 0.0040 - val_loss: 0.0070 - 229ms/epoch - 3ms/step\n",
      "Epoch 49/50\n",
      "71/71 - 0s - loss: 0.0039 - val_loss: 0.0063 - 237ms/epoch - 3ms/step\n",
      "Epoch 50/50\n",
      "71/71 - 0s - loss: 0.0039 - val_loss: 0.0064 - 250ms/epoch - 4ms/step\n"
     ]
    },
    {
     "data": {
      "text/plain": [
       "<keras.src.callbacks.History at 0x20db66bc310>"
      ]
     },
     "execution_count": 16,
     "metadata": {},
     "output_type": "execute_result"
    }
   ],
   "source": [
    "model.fit(X_train, y_train, epochs=50, batch_size=32, validation_data=(X_test, y_test), verbose=2)"
   ]
  },
  {
   "cell_type": "code",
   "execution_count": 17,
   "metadata": {},
   "outputs": [
    {
     "name": "stdout",
     "output_type": "stream",
     "text": [
      "18/18 [==============================] - 0s 2ms/step\n",
      "Mean Squared Error: 0.006354680440828007\n",
      "Mean Absolute Error: 0.05818939481380853\n"
     ]
    }
   ],
   "source": [
    "y_pred = model.predict(X_test)\n",
    "\n",
    "mse = mean_squared_error(y_test, y_pred)\n",
    "mae = mean_absolute_error(y_test, y_pred)\n",
    "\n",
    "print(f'Mean Squared Error: {mse}')\n",
    "print(f'Mean Absolute Error: {mae}')"
   ]
  },
  {
   "cell_type": "code",
   "execution_count": null,
   "metadata": {},
   "outputs": [],
   "source": []
  }
 ],
 "metadata": {
  "kernelspec": {
   "display_name": "Python 3",
   "language": "python",
   "name": "python3"
  },
  "language_info": {
   "codemirror_mode": {
    "name": "ipython",
    "version": 3
   },
   "file_extension": ".py",
   "mimetype": "text/x-python",
   "name": "python",
   "nbconvert_exporter": "python",
   "pygments_lexer": "ipython3",
   "version": "3.11.6"
  }
 },
 "nbformat": 4,
 "nbformat_minor": 2
}
